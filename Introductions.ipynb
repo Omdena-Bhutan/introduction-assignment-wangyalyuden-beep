{
  "nbformat": 4,
  "nbformat_minor": 0,
  "metadata": {
    "colab": {
      "provenance": [],
      "authorship_tag": "ABX9TyO01Cu/wJSqNWZKA7piDT2f",
      "include_colab_link": true
    },
    "kernelspec": {
      "name": "python3",
      "display_name": "Python 3"
    },
    "language_info": {
      "name": "python"
    }
  },
  "cells": [
    {
      "cell_type": "markdown",
      "metadata": {
        "id": "view-in-github",
        "colab_type": "text"
      },
      "source": [
        "<a href=\"https://colab.research.google.com/github/Omdena-Bhutan/introduction-assignment-wangyalyuden-beep/blob/main/Introductions.ipynb\" target=\"_parent\"><img src=\"https://colab.research.google.com/assets/colab-badge.svg\" alt=\"Open In Colab\"/></a>"
      ]
    },
    {
      "cell_type": "code",
      "execution_count": 1,
      "metadata": {
        "colab": {
          "base_uri": "https://localhost:8080/"
        },
        "id": "x3lIko1uXAlz",
        "outputId": "1c37d0e5-bd04-4ffb-8833-517c4235aa8b"
      },
      "outputs": [
        {
          "output_type": "stream",
          "name": "stdout",
          "text": [
            "Hello Bhutan\n"
          ]
        }
      ],
      "source": [
        "print(\"Hello Bhutan\")"
      ]
    },
    {
      "cell_type": "code",
      "source": [
        "# this is a comment\n",
        "x = 5"
      ],
      "metadata": {
        "id": "nQjIPfkWX2Rd"
      },
      "execution_count": 3,
      "outputs": []
    },
    {
      "cell_type": "code",
      "source": [
        "print(x)"
      ],
      "metadata": {
        "colab": {
          "base_uri": "https://localhost:8080/"
        },
        "id": "SPZl2V6LYJOM",
        "outputId": "cd894013-db13-4aaf-f807-425be74e1c92"
      },
      "execution_count": 4,
      "outputs": [
        {
          "output_type": "stream",
          "name": "stdout",
          "text": [
            "5\n"
          ]
        }
      ]
    },
    {
      "cell_type": "markdown",
      "source": [
        "# Data Types\n",
        "1. Integers\n",
        "2. Flaot\n",
        "3.Strings\n",
        "4.Boolean"
      ],
      "metadata": {
        "id": "gx9EjTjAYRQ8"
      }
    },
    {
      "cell_type": "code",
      "source": [
        "# Integers\n",
        "number = 8"
      ],
      "metadata": {
        "id": "1G2_pTq5YjuE"
      },
      "execution_count": 5,
      "outputs": []
    },
    {
      "cell_type": "code",
      "source": [
        "number"
      ],
      "metadata": {
        "colab": {
          "base_uri": "https://localhost:8080/"
        },
        "id": "zjvTbbzQYqmk",
        "outputId": "dd53ed22-c00e-460b-d89e-fdd355e71d28"
      },
      "execution_count": 6,
      "outputs": [
        {
          "output_type": "execute_result",
          "data": {
            "text/plain": [
              "8"
            ]
          },
          "metadata": {},
          "execution_count": 6
        }
      ]
    },
    {
      "cell_type": "code",
      "source": [],
      "metadata": {
        "id": "fFK8NSiXYsAz"
      },
      "execution_count": null,
      "outputs": []
    },
    {
      "cell_type": "code",
      "source": [
        "type(number)"
      ],
      "metadata": {
        "colab": {
          "base_uri": "https://localhost:8080/"
        },
        "id": "whv-w3YLYth0",
        "outputId": "cd6dc91f-6d29-4c30-a5f3-38eebf78291c"
      },
      "execution_count": 7,
      "outputs": [
        {
          "output_type": "execute_result",
          "data": {
            "text/plain": [
              "int"
            ]
          },
          "metadata": {},
          "execution_count": 7
        }
      ]
    },
    {
      "cell_type": "code",
      "source": [
        "# Flaots - There are decimal\n",
        "number = 8.9"
      ],
      "metadata": {
        "id": "ctqmr97JYy-z"
      },
      "execution_count": 8,
      "outputs": []
    },
    {
      "cell_type": "code",
      "source": [
        "# string - sequence of characters\n",
        "name = \"Jigme\""
      ],
      "metadata": {
        "id": "4vQApEbjZREs"
      },
      "execution_count": 9,
      "outputs": []
    },
    {
      "cell_type": "code",
      "source": [
        "name"
      ],
      "metadata": {
        "colab": {
          "base_uri": "https://localhost:8080/",
          "height": 35
        },
        "id": "pjy79QaoZqBF",
        "outputId": "e1466469-3221-4462-808f-6c3d9804ac43"
      },
      "execution_count": 10,
      "outputs": [
        {
          "output_type": "execute_result",
          "data": {
            "text/plain": [
              "'Jigme'"
            ],
            "application/vnd.google.colaboratory.intrinsic+json": {
              "type": "string"
            }
          },
          "metadata": {},
          "execution_count": 10
        }
      ]
    },
    {
      "cell_type": "code",
      "source": [
        "type(name)"
      ],
      "metadata": {
        "colab": {
          "base_uri": "https://localhost:8080/"
        },
        "id": "gB4AjQkOZrNT",
        "outputId": "ed2b6315-8136-4207-8b18-66759685bdd0"
      },
      "execution_count": 11,
      "outputs": [
        {
          "output_type": "execute_result",
          "data": {
            "text/plain": [
              "str"
            ]
          },
          "metadata": {},
          "execution_count": 11
        }
      ]
    },
    {
      "cell_type": "code",
      "source": [
        "# Boolean _ A Logical data type\n",
        "is_student = True"
      ],
      "metadata": {
        "id": "J95NETEmZuoT"
      },
      "execution_count": 1,
      "outputs": []
    },
    {
      "cell_type": "code",
      "source": [
        "type(is_student)\n"
      ],
      "metadata": {
        "colab": {
          "base_uri": "https://localhost:8080/"
        },
        "id": "a_QqRtHnaBLb",
        "outputId": "7dcf6828-9123-4717-9bc1-13e855794b71"
      },
      "execution_count": 3,
      "outputs": [
        {
          "output_type": "execute_result",
          "data": {
            "text/plain": [
              "bool"
            ]
          },
          "metadata": {},
          "execution_count": 3
        }
      ]
    },
    {
      "cell_type": "code",
      "source": [],
      "metadata": {
        "id": "b2NcAAUIaEUb"
      },
      "execution_count": null,
      "outputs": []
    }
  ]
}